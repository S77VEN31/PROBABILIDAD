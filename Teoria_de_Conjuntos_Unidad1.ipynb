{
  "cells": [
    {
      "cell_type": "markdown",
      "metadata": {
        "vscode": {
          "languageId": "latex"
        }
      },
      "source": [
        "# Unidad 1: Teoría de Conjuntos\n",
        "\n",
        "## 1. Introducción a la Teoría de Conjuntos\n",
        "\n",
        "La teoría de conjuntos es una rama de las matemáticas que estudia las colecciones de objetos. Estas colecciones, llamadas conjuntos, son fundamentales para la construcción de estructuras matemáticas y sirven como base para muchas áreas de las matemáticas.\n",
        "\n",
        "### ¿Qué es un conjunto?\n",
        "\n",
        "Un conjunto es una colección bien definida de objetos, llamados elementos o miembros del conjunto. \"Bien definida\" significa que podemos determinar si un objeto pertenece o no al conjunto.\n",
        "\n",
        "### Notación básica\n",
        "\n",
        "- Los conjuntos se denotan generalmente con letras mayúsculas: $A$, $B$, $C$, ...\n",
        "- Los elementos se denotan con letras minúsculas: $a$, $b$, $c$, ...\n",
        "- Si $a$ es un elemento del conjunto $A$, escribimos: $a \\in A$\n",
        "- Si $a$ no es un elemento del conjunto $A$, escribimos: $a \\notin A$\n",
        "\n",
        "### Formas de representar conjuntos\n",
        "\n",
        "1. **Por extensión**: Listando todos sus elementos entre llaves.\n",
        "   - Ejemplo: $A = \\{1, 2, 3, 4, 5\\}$\n",
        "\n",
        "2. **Por comprensión**: Describiendo una propiedad que caracteriza a todos los elementos del conjunto.\n",
        "   - Ejemplo: $B = \\{x \\in \\mathbb{N} : x < 6\\}$ (el conjunto de números naturales menores que 6)\n",
        "\n",
        "### Conjuntos especiales\n",
        "\n",
        "- **Conjunto vacío**: Se denota por $\\emptyset$ y no contiene ningún elemento. Tiene cardinalidad 0, es decir, $|\\emptyset| = 0$. \n",
        "  - <span style=\"color:cyan\">**Nota**: Es importante distinguir que el conjunto que contiene al conjunto vacío $\\{\\emptyset\\}$ tiene cardinalidad 1, ya que contiene un elemento (que es el conjunto vacío).</span>\n",
        "- **Conjunto universal**: Se denota por $U$ y contiene todos los elementos del contexto en consideración.\n",
        "- **Conjuntos numéricos**:\n",
        "  - $\\mathbb{N}$: Conjunto de números naturales \n",
        "    - <span style=\"color:cyan\">**Nota**: Para efectos probabilísticos, se considera que $0 \\in \\mathbb{N}$</span>\n",
        "  - $\\mathbb{Z}$: Conjunto de números enteros\n",
        "  - $\\mathbb{Q}$: Conjunto de números racionales\n",
        "  - $\\mathbb{R}$: Conjunto de números reales\n",
        "  - $\\mathbb{C}$: Conjunto de números complejos\n"
      ]
    },
    {
      "cell_type": "markdown",
      "metadata": {
        "vscode": {
          "languageId": "latex"
        }
      },
      "source": [
        "## 2. Relaciones entre conjuntos\n",
        "\n",
        "### Subconjuntos\n",
        "\n",
        "Un conjunto $A$ es un subconjunto de un conjunto $B$ (se escribe $A \\subseteq B$) si todo elemento de $A$ también pertenece a $B$.\n",
        "\n",
        "- Si $A \\subseteq B$ y $A \\neq B$, entonces $A$ es un subconjunto propio de $B$ (se escribe $A \\subset B$).\n",
        "- Todo conjunto es subconjunto de sí mismo: $A \\subseteq A$\n",
        "- El conjunto vacío es subconjunto de cualquier conjunto: $\\emptyset \\subseteq A$\n",
        "\n",
        "### Igualdad de conjuntos\n",
        "\n",
        "Dos conjuntos $A$ y $B$ son iguales (se escribe $A = B$) si y solo si $A \\subseteq B$ y $B \\subseteq A$, es decir, si contienen exactamente los mismos elementos.\n",
        "\n",
        "### Conjunto potencia\n",
        "\n",
        "El conjunto potencia de un conjunto $A$, denotado por $\\mathcal{P}(A)$ o $2^A$, es el conjunto de todos los subconjuntos posibles de $A$.\n",
        "\n",
        "Ejemplo: Si $A = \\{1, 2, 3\\}$, entonces $\\mathcal{P}(A) = \\{\\emptyset, \\{1\\}, \\{2\\}, \\{3\\}, \\{1,2\\}, \\{1,3\\}, \\{2,3\\}, \\{1,2,3\\}\\}$\n",
        "\n",
        "Si un conjunto $A$ tiene $n$ elementos, entonces su conjunto potencia $\\mathcal{P}(A)$ tiene $2^n$ elementos.\n"
      ]
    },
    {
      "cell_type": "markdown",
      "metadata": {
        "vscode": {
          "languageId": "latex"
        }
      },
      "source": [
        "## 3. Operaciones con conjuntos\n",
        "\n",
        "### Unión\n",
        "\n",
        "La unión de dos conjuntos $A$ y $B$, denotada por $A \\cup B$, es el conjunto de todos los elementos que pertenecen a $A$ o a $B$ (o a ambos).\n",
        "\n",
        "$A \\cup B = \\{x : x \\in A \\text{ o } x \\in B\\}$\n",
        "\n",
        "### Intersección\n",
        "\n",
        "La intersección de dos conjuntos $A$ y $B$, denotada por $A \\cap B$, es el conjunto de todos los elementos que pertenecen tanto a $A$ como a $B$.\n",
        "\n",
        "$A \\cap B = \\{x : x \\in A \\text{ y } x \\in B\\}$\n",
        "\n",
        "### Diferencia\n",
        "\n",
        "La diferencia de dos conjuntos $A$ y $B$, denotada por $A \\setminus B$ o $A - B$, es el conjunto de elementos que pertenecen a $A$ pero no a $B$.\n",
        "\n",
        "$A \\setminus B = \\{x : x \\in A \\text{ y } x \\notin B\\}$\n",
        "\n",
        "### Complemento\n",
        "\n",
        "El complemento de un conjunto $A$ respecto a un conjunto universal $U$, denotado por $A^c$ o $\\overline{A}$, es el conjunto de elementos que pertenecen a $U$ pero no a $A$.\n",
        "\n",
        "$A^c = \\{x \\in U : x \\notin A\\}$\n",
        "\n",
        "### Diferencia simétrica\n",
        "\n",
        "La diferencia simétrica de dos conjuntos $A$ y $B$, denotada por $A \\triangle B$ o $A \\oplus B$, es el conjunto de elementos que pertenecen a uno u otro conjunto, pero no a ambos.\n",
        "\n",
        "$A \\triangle B = (A \\setminus B) \\cup (B \\setminus A) = (A \\cup B) \\setminus (A \\cap B)$\n"
      ]
    },
    {
      "cell_type": "markdown",
      "metadata": {
        "vscode": {
          "languageId": "latex"
        }
      },
      "source": [
        "## 4. Propiedades de las operaciones con conjuntos\n",
        "\n",
        "### Propiedades de la unión e intersección\n",
        "\n",
        "1. **Conmutatividad**:\n",
        "   - $A \\cup B = B \\cup A$\n",
        "   - $A \\cap B = B \\cap A$\n",
        "\n",
        "2. **Asociatividad**:\n",
        "   - $(A \\cup B) \\cup C = A \\cup (B \\cup C)$\n",
        "   - $(A \\cap B) \\cap C = A \\cap (B \\cap C)$\n",
        "\n",
        "3. **Distributividad**:\n",
        "   - $A \\cap (B \\cup C) = (A \\cap B) \\cup (A \\cap C)$\n",
        "   - $A \\cup (B \\cap C) = (A \\cup B) \\cap (A \\cup C)$\n",
        "\n",
        "4. **Identidad**:\n",
        "   - $A \\cup \\emptyset = A$\n",
        "   - $A \\cap U = A$\n",
        "   - $A \\cup U = U$\n",
        "   - $A \\cap \\emptyset = \\emptyset$\n",
        "\n",
        "5. **Idempotencia**:\n",
        "   - $A \\cup A = A$\n",
        "   - $A \\cap A = A$\n",
        "\n",
        "6. **Complementación**:\n",
        "   - $A \\cup A^c = U$\n",
        "   - $A \\cap A^c = \\emptyset$\n",
        "   - $(A^c)^c = A$\n",
        "\n",
        "### Leyes de De Morgan\n",
        "\n",
        "- $(A \\cup B)^c = A^c \\cap B^c$\n",
        "- $(A \\cap B)^c = A^c \\cup B^c$\n"
      ]
    },
    {
      "cell_type": "markdown",
      "metadata": {
        "vscode": {
          "languageId": "latex"
        }
      },
      "source": [
        "## 5. Diagramas de Venn\n",
        "\n",
        "Los diagramas de Venn son representaciones gráficas que muestran las relaciones entre conjuntos. Utilizan círculos u otras figuras para representar conjuntos y las regiones de superposición para representar las operaciones entre ellos.\n",
        "\n",
        "### Ejemplos de diagramas de Venn\n",
        "\n",
        "- Unión $A \\cup B$: Área total dentro de ambos círculos\n",
        "- Intersección $A \\cap B$: Área donde los círculos se superponen\n",
        "- Diferencia $A \\setminus B$: Área dentro del círculo $A$ pero fuera del círculo $B$\n",
        "- Complemento $A^c$: Área fuera del círculo $A$ pero dentro del rectángulo universal\n",
        "\n",
        "Los diagramas de Venn son especialmente útiles para visualizar y resolver problemas relacionados con la teoría de conjuntos y la lógica proposicional.\n"
      ]
    },
    {
      "cell_type": "markdown",
      "metadata": {
        "vscode": {
          "languageId": "latex"
        }
      },
      "source": [
        "## 6. Producto cartesiano\n",
        "\n",
        "El producto cartesiano de dos conjuntos $A$ y $B$, denotado por $A \\times B$, es el conjunto de todos los pares ordenados $(a, b)$ donde $a \\in A$ y $b \\in B$.\n",
        "\n",
        "$A \\times B = \\{(a, b) : a \\in A \\text{ y } b \\in B\\}$\n",
        "\n",
        "### Propiedades del producto cartesiano\n",
        "\n",
        "1. En general, $A \\times B \\neq B \\times A$ (no es conmutativo)\n",
        "2. Si $A$ tiene $m$ elementos y $B$ tiene $n$ elementos, entonces $A \\times B$ tiene $m \\times n$ elementos\n",
        "3. $A \\times \\emptyset = \\emptyset \\times A = \\emptyset$\n",
        "4. $(A \\times B) \\times C \\neq A \\times (B \\times C)$ (no es asociativo)\n",
        "\n",
        "El producto cartesiano es fundamental para definir relaciones y funciones entre conjuntos.\n"
      ]
    },
    {
      "cell_type": "markdown",
      "metadata": {
        "vscode": {
          "languageId": "latex"
        }
      },
      "source": [
        "## 7. Aplicaciones de la teoría de conjuntos\n",
        "\n",
        "La teoría de conjuntos tiene numerosas aplicaciones en matemáticas y otras disciplinas:\n",
        "\n",
        "1. **Fundamento de las matemáticas**: La mayoría de los conceptos matemáticos pueden definirse en términos de conjuntos.\n",
        "\n",
        "2. **Lógica y computación**: Las operaciones con conjuntos están estrechamente relacionadas con las operaciones lógicas (AND, OR, NOT) utilizadas en programación y diseño de circuitos.\n",
        "\n",
        "3. **Probabilidad y estadística**: Los eventos en teoría de probabilidad se modelan como conjuntos, y las operaciones con conjuntos corresponden a operaciones con eventos.\n",
        "\n",
        "4. **Bases de datos**: Las operaciones con conjuntos son la base del álgebra relacional utilizada en sistemas de gestión de bases de datos.\n",
        "\n",
        "5. **Topología**: La teoría de conjuntos es fundamental para definir espacios topológicos y sus propiedades.\n"
      ]
    },
    {
      "cell_type": "code",
      "execution_count": 7,
      "metadata": {},
      "outputs": [
        {
          "name": "stdout",
          "output_type": "stream",
          "text": [
            "A = {1, 2, 3, 4, 5}\n",
            "B = {4, 5, 6, 7, 8}\n",
            "A ∪ B = {1, 2, 3, 4, 5, 6, 7, 8}\n",
            "A ∩ B = {4, 5}\n",
            "A - B = {1, 2, 3}\n",
            "B - A = {8, 6, 7}\n",
            "A △ B = {1, 2, 3, 6, 7, 8}\n"
          ]
        }
      ],
      "source": [
        "# Ejemplo práctico: Implementación de operaciones con conjuntos en Python\n",
        "# Definimos algunos conjuntos de ejemplo\n",
        "A = {1, 2, 3, 4, 5}\n",
        "B = {4, 5, 6, 7, 8}\n",
        "\n",
        "# Operaciones básicas\n",
        "print(f\"A = {A}\")\n",
        "print(f\"B = {B}\")\n",
        "print(f\"A ∪ B = {A.union(B)}\")\n",
        "print(f\"A ∩ B = {A.intersection(B)}\")\n",
        "print(f\"A - B = {A.difference(B)}\")\n",
        "print(f\"B - A = {B.difference(A)}\")\n",
        "print(f\"A △ B = {A.symmetric_difference(B)}\")\n"
      ]
    },
    {
      "cell_type": "code",
      "execution_count": null,
      "metadata": {},
      "outputs": [],
      "source": [
        "# Verificación de subconjuntos\n",
        "C = {1, 2, 3}\n",
        "print(f\"C = {C}\")\n",
        "print(f\"¿C ⊆ A? {C.issubset(A)}\")\n",
        "print(f\"¿A ⊆ C? {A.issubset(C)}\")\n",
        "\n",
        "# Conjunto potencia (implementación simple)\n",
        "def conjunto_potencia(s):\n",
        "    if len(s) == 0:\n",
        "        return [set()]\n",
        "    r = conjunto_potencia(set(list(s)[1:]))\n",
        "    return r + [t | {list(s)[0]} for t in r]\n",
        "\n",
        "D = {1, 2, 3}\n",
        "print(f\"D = {D}\")\n",
        "print(f\"P(D) = {conjunto_potencia(D)}\")\n"
      ]
    },
    {
      "cell_type": "code",
      "execution_count": null,
      "metadata": {},
      "outputs": [],
      "source": [
        "# Producto cartesiano\n",
        "import itertools\n",
        "\n",
        "E = {1, 2}\n",
        "F = {'a', 'b', 'c'}\n",
        "\n",
        "producto_cartesiano = list(itertools.product(E, F))\n",
        "\n",
        "print(f\"E = {E}\")\n",
        "print(f\"F = {F}\")\n",
        "print(f\"E × F = {producto_cartesiano}\")\n"
      ]
    },
    {
      "cell_type": "markdown",
      "metadata": {
        "vscode": {
          "languageId": "latex"
        }
      },
      "source": [
        "## Ejercicios propuestos\n",
        "\n",
        "1. Dados los conjuntos $A = \\{1, 3, 5, 7, 9\\}$ y $B = \\{2, 3, 5, 7\\}$, calcular:\n",
        "   - $A \\cup B$\n",
        "   - $A \\cap B$\n",
        "   - $A \\setminus B$\n",
        "   - $B \\setminus A$\n",
        "   - $A \\triangle B$\n",
        "\n",
        "2. Si $U = \\{1, 2, 3, 4, 5, 6, 7, 8, 9, 10\\}$, $A = \\{1, 3, 5, 7, 9\\}$ y $B = \\{2, 4, 6, 8, 10\\}$, calcular:\n",
        "   - $A^c$\n",
        "   - $B^c$\n",
        "   - $A^c \\cap B^c$\n",
        "   - $(A \\cup B)^c$\n",
        "   - Verificar la ley de De Morgan: $(A \\cup B)^c = A^c \\cap B^c$\n",
        "\n",
        "3. Dados los conjuntos $A = \\{a, b, c\\}$ y $B = \\{1, 2\\}$, determinar el producto cartesiano $A \\times B$ y $B \\times A$.\n",
        "\n",
        "4. Si $A = \\{1, 2, 3\\}$, enumerar todos los elementos del conjunto potencia $\\mathcal{P}(A)$ y verificar que tiene $2^3 = 8$ elementos.\n"
      ]
    }
  ],
  "metadata": {
    "kernelspec": {
      "display_name": "Python 3",
      "language": "python",
      "name": "python3"
    },
    "language_info": {
      "codemirror_mode": {
        "name": "ipython",
        "version": 3
      },
      "file_extension": ".py",
      "mimetype": "text/x-python",
      "name": "python",
      "nbconvert_exporter": "python",
      "pygments_lexer": "ipython3",
      "version": "3.13.5"
    }
  },
  "nbformat": 4,
  "nbformat_minor": 2
}

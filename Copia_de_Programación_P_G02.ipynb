{
  "nbformat": 4,
  "nbformat_minor": 0,
  "metadata": {
    "colab": {
      "provenance": [],
      "include_colab_link": true
    },
    "kernelspec": {
      "name": "python3",
      "display_name": "Python 3"
    },
    "language_info": {
      "name": "python"
    }
  },
  "cells": [
    {
      "cell_type": "markdown",
      "metadata": {
        "id": "view-in-github",
        "colab_type": "text"
      },
      "source": [
        "<a href=\"https://colab.research.google.com/github/S77VEN31/PROBABILIDAD/blob/main/Copia_de_Programaci%C3%B3n_P_G02.ipynb\" target=\"_parent\"><img src=\"https://colab.research.google.com/assets/colab-badge.svg\" alt=\"Open In Colab\"/></a>"
      ]
    },
    {
      "cell_type": "markdown",
      "source": [
        "# ¡Bienvenidos al curso de Probabilidades!\n",
        "\n",
        "Bienvenidos estimados y estimadas\n",
        "\n",
        "Les doy la más cordial bienvenida a este fascinante viaje por el mundo de las probabilidades. Puede que el nombre suene intimidante, pero mi objetivo es que descubran el poder y la utilidad de estas herramientas, que son esenciales en la ciencia, la ingeniería y la tecnología moderna.\n",
        "\n",
        "Juntos, aprenderemos a resolver problemas complejos paso a paso, utilizando problemas aplicados a la realidad en diferentes escenarios probabilísticos. No teman si no recuerdan mucho, ¡retomaremos los conceptos necesarios! Estoy aquí para guiarlos y apoyarlos en cada etapa. ¡Empecemos con entusiasmo!\n",
        "\n",
        "---\n",
        "\n",
        "## Información General y Contacto\n",
        "\n",
        "### Datos del Curso\n",
        "*   **Curso:** Probabilidades (MA-2404)\n",
        "*   **Aula:** Aula I6-03\n",
        "*   **Horario:** Martes y jueves de 5:00 p.m. a 7:00 p.m.\n",
        "*   **Grupo de Telegram:** [Unirse al grupo](https://t.me/+eJrYm6fsk7RjYjJh)\n",
        "\n",
        "### Datos del Profesor\n",
        "*   **Profesor:** M.Sc. Emanuelle Parra Rodríguez\n",
        "*   **Correo Electrónico:** [emaparra@itcr.ac.cr](emaparra@itcr.ac.cr)\n",
        "*   **Oficina:** I-05\n",
        "*   **Horario de Consulta:** Miércoles y viernes, 7:30 a.m. - 8:30 a.m.\n",
        "\n",
        "---"
      ],
      "metadata": {
        "id": "NJ-cVUp_VZAA"
      }
    },
    {
      "cell_type": "markdown",
      "source": [
        "# Programa del curso\n",
        "<a href=\"https://drive.google.com/file/d/1IGC-90Z7f6H8vC_M6Plb7yRTCBiO6Sbi/view?usp=drive_link\" target=\"_blank\"><b>Haga clic en este enlace para acceder al programa </b></a>\n",
        "\n",
        "---"
      ],
      "metadata": {
        "id": "Vv28h5ZoS5j7"
      }
    },
    {
      "cell_type": "markdown",
      "source": [
        "# Cronograma del Curso de Probabilidades\n",
        "\n",
        "**Las sesiones de los martes serán presenciales y las de jueves virtuales a través de Zoom [Enlace de acceso](https://udecr.zoom.us/j/82020472776) Meeting ID: 820 2047 2776**\n",
        "\n",
        "\n",
        "\n",
        "\n",
        "\n",
        "| Sem | Del | Al | Contenidos | Parciales | Observaciones |\n",
        "|:---:|:---:|:---:|:---|:---|:---|\n",
        "| **1** | 4-ago | 8-ago | **1. Fundamentos:** Teoría de Conjuntos (Repaso). | Cubre Parcial 1 | |\n",
        "| **2** | 11-ago | 15-ago | **2. Conteo:** Espacios muestrales y técnicas de conteo: combinatoria elemental. | Cubre Parcial 1 | Asueto 15 ago  |\n",
        "| **3** | 18-ago | 22-ago | **2. Conteo:** Espacios muestrales y técnicas de conteo: combinatoria elemental. | Cubre Parcial 1 | **Q1:** Técnicas de conteo (4%) |\n",
        "| **4** | 25-ago | 29-ago | **3. Probabilidad Discreta:** Probabilidad sobre un espacio discreto: regla de Laplace. | Cubre Parcial 1 |  |\n",
        "| **5** | 1-sep | 5-sep | **4. Probabilidad Condicional:** Probabilidad condicional y aplicaciones: reglas de Bayes. | Cubre Parcial 1 | **Q2:** Cálculo de probabilidades (4%) |\n",
        "| **6** | 8-sep | 12-sep | Repaso y consultas para el Parcial 1. | Cubre Parcial 1 | |\n",
        "| **7** | 15-sep | 19-sep | **Evaluación Parcial 1 (25%)** | | Asueto 15 sep |\n",
        "| **8** | 22-sep | 26-sep | **5. V.A. Discretas:** Distribuciones de Probabilidad para variables aleatorias discretas. | Cubre Parcial 2 | |\n",
        "| **9** | 29-sep | 3-oct | **5. V.A. Discretas:** Distribuciones particulares: binomial, geométrica. | Cubre Parcial 2 | **Q3:** V.A. discretas(4%) |\n",
        "| **10** | 6-oct | 10-oct | **5. V.A. Discretas:** Distribuciones particulares: poisson e hipergeométrica. | Cubre Parcial 2 |  |\n",
        "| **11** | 13-oct | 17-oct | **6. V.A. Continuas:** Distribuciones de probabilidades para variables aleatorias continuas. | Cubre Parcial 3 | **Q4:** Distribuciones particulares discretas(4%) |\n",
        "| **12** | 20-oct | 24-oct | Repaso y consultas para el Parcial 2. | Cubre Parcial 2 | |\n",
        "| **13** | 27-oct | 31-oct | **Evaluación Parcial 2 (25%)** | | |\n",
        "| **14** | 3-nov | 7-nov | **6. V.A. Continuas:** Distribuciones particulares: uniforme, normal, gamma, beta, exponencial. | Cubre Parcial 3 | **Q5:** V.A. continuas introducción (4%)|\n",
        "| **15** | 10-nov | 14-nov | **7. Teoremas Límite:** Desigualdades importantes, ley de los grandes números y teorema del límite central. | Cubre Parcial 3 | |\n",
        "| **16** | 17-nov | 21-nov | **8. Muestreo:** Elementos de muestreo. | Cubre Parcial 3 | **Q6:** Distribuciones particulares continuas(5%) |\n",
        "| **17** | 24-nov | 28-nov | **Preparación para evaluaciones finales** | | |\n",
        "| **18** | 1-dic | 5-dic | **Evaluación Parcial 3 (25%)** | | Asueto 1 dic |\n",
        "| **19** | 8-dic | 12-dic | **Evaluación Parcial 3 (25%)** | | |\n",
        "\n",
        "---"
      ],
      "metadata": {
        "id": "fkH2BRorYa36"
      }
    },
    {
      "cell_type": "markdown",
      "source": [
        "# Rúbrica de Evaluación\n",
        "\n",
        "| Rubro | Porcentaje |\n",
        "| :--- | :---: |\n",
        "| 3 Exámenes Parciales | 75% (25% cada uno) |\n",
        "| 6 Pruebas Cortas (Q) | 25% (distribución según cronograma) |\n",
        "\n",
        "---"
      ],
      "metadata": {
        "id": "afyUFxV4fldY"
      }
    },
    {
      "cell_type": "markdown",
      "source": [
        "\n",
        "\n",
        "# Recursos Adicionales\n",
        "\n",
        "En esta sección encontrarás enlaces a prácticas, ejercicios, videos y otro material de apoyo que te será de gran utilidad para reforzar los temas vistos en clase.\n",
        "\n",
        "<p align=\"center\">\n",
        "<a href=\"https://drive.google.com/drive/folders/1nAWN9airSxflVCI8uQaj328QIVsB4iEa?usp=sharing\">\n",
        "Acceso a materiales complementarios\n",
        "</a>\n",
        "</p>\n",
        "\n",
        "---"
      ],
      "metadata": {
        "id": "xNQSCv1xCC6O"
      }
    }
  ]
}